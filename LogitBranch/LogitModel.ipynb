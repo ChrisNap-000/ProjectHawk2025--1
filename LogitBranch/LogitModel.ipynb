{
 "cells": [
  {
   "cell_type": "markdown",
   "id": "0ce14839",
   "metadata": {},
   "source": [
    "***Logitic Regression Model***"
   ]
  },
  {
   "cell_type": "markdown",
   "id": "cd66c2e9",
   "metadata": {},
   "source": [
    "_____"
   ]
  },
  {
   "cell_type": "markdown",
   "id": "fbf99155",
   "metadata": {},
   "source": [
    "*Steps:*\n",
    "\n",
    "1. *Load the cleaned Heart Study Dataset*\n",
    "\n",
    "2. *Define x and y Variables*\n",
    "\n",
    "3. *Split the Data into Testing and Training*\n",
    "\n",
    "4. *Fit the Logit Model*\n",
    "\n",
    "5. *Predict on the Test Set and Interpret Results*\n",
    "\n",
    "6. *Use Cross Validation to Help with Parameter Tuning*"
   ]
  },
  {
   "cell_type": "markdown",
   "id": "2b84f8a9",
   "metadata": {},
   "source": [
    "_____"
   ]
  },
  {
   "cell_type": "markdown",
   "id": "8359eb7d",
   "metadata": {},
   "source": [
    "**Load Nessessary Packages**"
   ]
  },
  {
   "cell_type": "code",
   "execution_count": 102,
   "id": "1db0641e",
   "metadata": {},
   "outputs": [],
   "source": [
    "#Importing all the packages\n",
    "import pandas as pd\n",
    "import statsmodels.api as sm\n",
    "import matplotlib.pyplot as plt\n",
    "import seaborn as sns\n",
    "import numpy as np\n",
    "import shap\n",
    "from sklearn.model_selection import train_test_split, cross_val_score, GridSearchCV\n",
    "from sklearn.metrics import classification_report, confusion_matrix, accuracy_score, roc_auc_score, roc_curve, auc, RocCurveDisplay\n",
    "from sklearn.linear_model import LogisticRegression\n",
    "from imblearn.over_sampling import SMOTE"
   ]
  },
  {
   "cell_type": "markdown",
   "id": "f424291c",
   "metadata": {},
   "source": [
    "______"
   ]
  },
  {
   "cell_type": "markdown",
   "id": "7b0be295",
   "metadata": {},
   "source": [
    "**Step 1: Load the Cleaned Heart Study Dataset**"
   ]
  },
  {
   "cell_type": "markdown",
   "id": "f0fd25ee",
   "metadata": {},
   "source": [
    "Determine the file path"
   ]
  },
  {
   "cell_type": "code",
   "execution_count": 103,
   "id": "ef0746ea",
   "metadata": {},
   "outputs": [],
   "source": [
    "# Assign the variable file_path to the path of the CSV file\n",
    "file_path = r\"C:\\Users\\Chris Napoli\\OneDrive\\Desktop\\Analytics With ML\\Final Project Repo\\framingham_heart_study_cleaned.csv\""
   ]
  },
  {
   "cell_type": "markdown",
   "id": "cb67e90a",
   "metadata": {},
   "source": [
    "Load DataFrame"
   ]
  },
  {
   "cell_type": "code",
   "execution_count": 104,
   "id": "a9c24aa4",
   "metadata": {},
   "outputs": [
    {
     "data": {
      "application/vnd.microsoft.datawrangler.viewer.v0+json": {
       "columns": [
        {
         "name": "index",
         "rawType": "int64",
         "type": "integer"
        },
        {
         "name": "male",
         "rawType": "int64",
         "type": "integer"
        },
        {
         "name": "age",
         "rawType": "float64",
         "type": "float"
        },
        {
         "name": "education",
         "rawType": "int32",
         "type": "integer"
        },
        {
         "name": "currentSmoker",
         "rawType": "int64",
         "type": "integer"
        },
        {
         "name": "cigsPerDay",
         "rawType": "float64",
         "type": "float"
        },
        {
         "name": "BPMeds",
         "rawType": "float64",
         "type": "float"
        },
        {
         "name": "prevalentStroke",
         "rawType": "int64",
         "type": "integer"
        },
        {
         "name": "prevalentHyp",
         "rawType": "int64",
         "type": "integer"
        },
        {
         "name": "diabetes",
         "rawType": "int64",
         "type": "integer"
        },
        {
         "name": "totChol",
         "rawType": "float64",
         "type": "float"
        },
        {
         "name": "diaBP",
         "rawType": "float64",
         "type": "float"
        },
        {
         "name": "BMI",
         "rawType": "float64",
         "type": "float"
        },
        {
         "name": "heartRate",
         "rawType": "float64",
         "type": "float"
        },
        {
         "name": "glucose",
         "rawType": "float64",
         "type": "float"
        },
        {
         "name": "TenYearCHD",
         "rawType": "int64",
         "type": "integer"
        }
       ],
       "conversionMethod": "pd.DataFrame",
       "ref": "dccb7568-3b8d-4c89-82cd-67d7fb13dcbe",
       "rows": [
        [
         "0",
         "1",
         "-1.1858046475558903",
         "4",
         "0",
         "-0.7841284603701864",
         "0.0",
         "0",
         "0",
         "0",
         "-0.9709602987919768",
         "-1.1104787633351814",
         "0.4527422775768698",
         "0.4809694257817024",
         "-0.0930787869221608",
         "0"
        ],
        [
         "1",
         "0",
         "-0.3600518284958044",
         "2",
         "0",
         "-0.7841284603701864",
         "0.0",
         "0",
         "0",
         "0",
         "0.3953936043217529",
         "-0.0528436534090645",
         "0.9593428872569214",
         "1.857227542356892",
         "-0.1949864115027066",
         "0"
        ],
        [
         "2",
         "1",
         "-0.1241224516214941",
         "1",
         "1",
         "0.9265867627729504",
         "0.0",
         "0",
         "0",
         "0",
         "0.2711796131295956",
         "-0.1489922997659842",
         "-0.0164389688881772",
         "0.022216720256639",
         "-0.8064321589859816",
         "0"
        ],
        [
         "3",
         "0",
         "1.4094184980615228",
         "3",
         "1",
         "1.781944374344519",
         "0.0",
         "0",
         "1",
         "0",
         "-0.2256763516390333",
         "1.2932373955878116",
         "0.9161666989319164",
         "-0.8952886907934876",
         "2.5565194521720307",
         "1"
        ],
        [
         "4",
         "0",
         "-0.3600518284958044",
         "3",
         "1",
         "1.183194046244421",
         "0.0",
         "0",
         "0",
         "0",
         "1.2648915426668537",
         "0.2356022856616946",
         "-0.6612033812082418",
         "0.9397221313067656",
         "0.7221822097222057",
         "0"
        ],
        [
         "5",
         "0",
         "-0.7139458938072698",
         "2",
         "0",
         "-0.7841284603701864",
         "0.0",
         "0",
         "1",
         "0",
         "-0.1511479569237389",
         "2.735467090941607",
         "1.411253658391967",
         "0.2057178024666643",
         "2.148888953849847",
         "0"
        ],
        [
         "6",
         "0",
         "1.645347874935833",
         "1",
         "0",
         "-0.7841284603701864",
         "0.0",
         "0",
         "0",
         "0",
         "-0.7225323164076622",
         "-1.0143301169782617",
         "2.220087586347048",
         "-1.354041396318551",
         "0.7221822097222057",
         "1"
        ],
        [
         "7",
         "0",
         "-0.4780165169329595",
         "2",
         "1",
         "0.9265867627729504",
         "0.0",
         "0",
         "0",
         "0",
         "1.9604898933429344",
         "-1.0143301169782617",
         "-1.0699379640182836",
         "0.3892188846766897",
         "0.0088288376583849",
         "0"
        ],
        [
         "8",
         "1",
         "0.3477363021271264",
         "1",
         "0",
         "-0.7841284603701864",
         "0.0",
         "0",
         "1",
         "0",
         "0.6438215867060674",
         "0.7163455174462932",
         "0.2771591117218522",
         "0.1139672613616517",
         "0.1107364622389307",
         "0"
        ],
        [
         "9",
         "1",
         "-0.7139458938072698",
         "1",
         "1",
         "1.781944374344519",
         "0.0",
         "0",
         "1",
         "0",
         "-0.2256763516390333",
         "2.447021151870848",
         "-0.5144043409032276",
         "1.6737264601468669",
         "1.0279050834638432",
         "0"
        ],
        [
         "10",
         "0",
         "0.1118069252528161",
         "1",
         "0",
         "-0.7841284603701864",
         "0.0",
         "0",
         "0",
         "0",
         "0.4947647972754787",
         "-0.533586885193663",
         "-0.7158932197532477",
         "0.022216720256639",
         "-0.1949864115027066",
         "0"
        ],
        [
         "11",
         "0",
         "-0.7139458938072698",
         "2",
         "0",
         "-0.7841284603701864",
         "0.0",
         "0",
         "0",
         "0",
         "0.3208652096064585",
         "0.6201968710893735",
         "0.6455959187618897",
         "-0.2530349030583989",
         "-1.723600780210894",
         "0"
        ],
        [
         "12",
         "1",
         "-0.3600518284958044",
         "1",
         "1",
         "0.4989079569871663",
         "0.0",
         "0",
         "1",
         "0",
         "1.4884767268127366",
         "1.1970887492308917",
         "0.2627670489468506",
         "2.1324791656719304",
         "-1.4178779064692566",
         "0"
        ],
        [
         "13",
         "0",
         "-0.94987527068158",
         "3",
         "0",
         "-0.7841284603701864",
         "1.0",
         "0",
         "1",
         "0",
         "2.432503059873132",
         "0.6201968710893735",
         "1.7019733264469958",
         "-0.8952886907934876",
         "0.6202745851416599",
         "0"
        ],
        [
         "14",
         "0",
         "-1.1858046475558903",
         "2",
         "1",
         "-0.0143066099557747",
         "0.0",
         "0",
         "0",
         "0",
         "-0.2008335534006018",
         "-1.6873706414766996",
         "-0.8770843228332635",
         "0.9397221313067656",
         "0.0088288376583849",
         "0"
        ],
        [
         "15",
         "0",
         "-1.3037693359930456",
         "2",
         "1",
         "0.9265867627729504",
         "0.0",
         "0",
         "1",
         "0",
         "-0.3250475445927591",
         "0.8124941638032129",
         "-1.1649255783332926",
         "1.857227542356892",
         "-0.8064321589859816",
         "1"
        ],
        [
         "16",
         "1",
         "-0.1241224516214941",
         "3",
         "1",
         "0.0712291512013821",
         "0.0",
         "0",
         "1",
         "0",
         "-0.0517767639700131",
         "0.8124941638032129",
         "-0.8713274977232631",
         "-0.9870392318985004",
         "-0.60261690982489",
         "0"
        ],
        [
         "17",
         "0",
         "-0.3600518284958044",
         "2",
         "1",
         "0.9265867627729504",
         "0.0",
         "0",
         "0",
         "0",
         "1.4139483320974422",
         "-0.3412895924798236",
         "-0.5806078296682343",
         "0.4809694257817024",
         "1.129812708044389",
         "1"
        ],
        [
         "18",
         "0",
         "-1.3037693359930456",
         "2",
         "1",
         "-0.3564496545844021",
         "0.0",
         "0",
         "0",
         "0",
         "-0.9709602987919768",
         "0.2836766088401545",
         "-0.6209056054382386",
         "0.022216720256639",
         "0.0088288376583849",
         "0"
        ],
        [
         "19",
         "1",
         "-0.94987527068158",
         "2",
         "0",
         "-0.7841284603701864",
         "0.0",
         "0",
         "0",
         "0",
         "-0.9709602987919768",
         "0.6201968710893735",
         "0.4268365645818672",
         "0.9397221313067656",
         "-1.315970281888711",
         "0"
        ],
        [
         "20",
         "0",
         "-0.8319105822444249",
         "2",
         "1",
         "1.781944374344519",
         "0.0",
         "0",
         "0",
         "0",
         "-1.095174289984134",
         "-1.0624044401567214",
         "-1.095843677013286",
         "-0.2530349030583989",
         "0.7221822097222057",
         "0"
        ],
        [
         "21",
         "0",
         "-0.7139458938072698",
         "1",
         "0",
         "-0.7841284603701864",
         "0.0",
         "0",
         "0",
         "0",
         "-1.2193882811762913",
         "-0.3893639156582835",
         "1.293238743636955",
         "-0.4365359852684243",
         "0.0088288376583849",
         "0"
        ],
        [
         "22",
         "0",
         "0.3477363021271264",
         "3",
         "1",
         "0.9265867627729504",
         "0.0",
         "0",
         "0",
         "0",
         "-0.4741043340233478",
         "0.0433049929478552",
         "-0.082642457653184",
         "-0.3447854441634116",
         "-0.2968940360832525",
         "0"
        ],
        [
         "23",
         "1",
         "-0.5959812053701147",
         "2",
         "1",
         "1.781944374344519",
         "0.0",
         "0",
         "1",
         "0",
         "0.8922495690903819",
         "0.8124941638032129",
         "-0.989342412478275",
         "0.022216720256639",
         "0.5183669605611141",
         "0"
        ],
        [
         "24",
         "1",
         "-0.2420871400586492",
         "4",
         "1",
         "0.9265867627729504",
         "0.0",
         "0",
         "0",
         "0",
         "1.4884767268127366",
         "-1.3027760560490207",
         "-0.3503348252682109",
         "-1.1705403141085255",
         "-1.214062657308165",
         "1"
        ],
        [
         "25",
         "0",
         "1.2914538096243675",
         "1",
         "0",
         "-0.7841284603701864",
         "0.0",
         "0",
         "0",
         "0",
         "0.6438215867060674",
         "-0.8701071474428821",
         "0.343362600486859",
         "-0.8952886907934876",
         "0.0088288376583849",
         "0"
        ],
        [
         "26",
         "1",
         "-1.6576634013045108",
         "2",
         "1",
         "0.9265867627729504",
         "0.0",
         "0",
         "1",
         "0",
         "-0.2256763516390333",
         "0.9086428101601326",
         "0.1994419727368445",
         "-0.1612843619533863",
         "0.5183669605611141",
         "0"
        ],
        [
         "27",
         "0",
         "1.2914538096243675",
         "1",
         "0",
         "-0.7841284603701864",
         "0.0",
         "0",
         "0",
         "0",
         "0.3208652096064585",
         "0.6201968710893735",
         "1.4285241337219683",
         "-0.2530349030583989",
         "-0.3988016606637983",
         "0"
        ],
        [
         "28",
         "1",
         "-1.5396987128673558",
         "4",
         "1",
         "2.2096231801303032",
         "0.0",
         "0",
         "0",
         "0",
         "1.5133195250511682",
         "-1.3027760560490207",
         "0.792394959066904",
         "-1.354041396318551",
         "-1.5197855310498023",
         "0"
        ],
        [
         "29",
         "1",
         "-0.7139458938072698",
         "4",
         "1",
         "2.893909269387557",
         "0.0",
         "0",
         "0",
         "0",
         "-0.2008335534006018",
         "0.3798252551970742",
         "0.6254470308768877",
         "0.022216720256639",
         "-0.2968940360832525",
         "0"
        ],
        [
         "30",
         "0",
         "1.1734891211872125",
         "1",
         "0",
         "-0.7841284603701864",
         "0.0",
         "0",
         "1",
         "0",
         "-0.6231611234539365",
         "0.3317509320186143",
         "-1.33187350652331",
         "1.398474836831829",
         "1.0279050834638432",
         "1"
        ],
        [
         "31",
         "1",
         "1.4094184980615228",
         "1",
         "1",
         "-0.3564496545844021",
         "0.0",
         "0",
         "0",
         "0",
         "-1.4678162635606058",
         "0.091379316126315",
         "-1.9593674435133728",
         "-0.2530349030583989",
         "-0.2968940360832525",
         "1"
        ],
        [
         "32",
         "1",
         "0.5836656790014367",
         "1",
         "1",
         "0.9265867627729504",
         "0.0",
         "0",
         "1",
         "0",
         "-0.4989471322617792",
         "-0.7258841779075025",
         "-0.1977789598531952",
         "1.948978083461905",
         "0.9259974588832972",
         "0"
        ],
        [
         "33",
         "1",
         "0.819595055875747",
         "1",
         "0",
         "-0.7841284603701864",
         "0.0",
         "0",
         "0",
         "0",
         "0.569293191990773",
         "1.9662779200862492",
         "0.7751244837369026",
         "-0.2530349030583989",
         "-0.2968940360832525",
         "0"
        ],
        [
         "34",
         "0",
         "-0.8319105822444249",
         "1",
         "1",
         "-0.6985926992130295",
         "0.0",
         "0",
         "1",
         "0",
         "-0.0269339657315817",
         "1.8701292737293296",
         "1.016911138356927",
         "-1.354041396318551",
         "1.2317203326249349",
         "0"
        ],
        [
         "35",
         "1",
         "-1.5396987128673558",
         "3",
         "0",
         "-0.7841284603701864",
         "0.0",
         "0",
         "0",
         "0",
         "-1.3436022723684484",
         "-0.8220328242644223",
         "0.685893694531894",
         "-0.3447854441634116",
         "0.2126440868194766",
         "0"
        ],
        [
         "36",
         "0",
         "-0.7139458938072698",
         "2",
         "1",
         "0.0712291512013821",
         "0.0",
         "0",
         "0",
         "0",
         "0.2214940166527327",
         "-0.1489922997659842",
         "0.4239581520268675",
         "-0.6200370674784496",
         "0.0088288376583849",
         "0"
        ],
        [
         "37",
         "0",
         "-0.94987527068158",
         "2",
         "1",
         "-0.6985926992130295",
         "0.0",
         "0",
         "0",
         "0",
         "0.072437227222144",
         "-0.3412895924798236",
         "-0.6093919552182366",
         "0.022216720256639",
         "-0.3988016606637983",
         "0"
        ],
        [
         "38",
         "0",
         "0.3477363021271264",
         "1",
         "0",
         "-0.7841284603701864",
         "1.0",
         "0",
         "1",
         "0",
         "-0.0020911674931502",
         "1.0047914565170524",
         "-0.0883992827631844",
         "-0.4365359852684243",
         "0.0088288376583849",
         "1"
        ],
        [
         "39",
         "1",
         "0.5836656790014367",
         "2",
         "0",
         "-0.7841284603701864",
         "0.0",
         "0",
         "0",
         "0",
         "-0.9709602987919768",
         "0.1875279624832347",
         "0.2339829233968483",
         "0.022216720256639",
         "2.250796578430393",
         "0"
        ],
        [
         "40",
         "0",
         "-0.0061577631843389",
         "2",
         "0",
         "-0.7841284603701864",
         "0.0",
         "0",
         "0",
         "0",
         "-0.6480039216923679",
         "-1.7835192878336197",
         "-1.3577792195183125",
         "-0.8952886907934876",
         "2.0469813292693013",
         "0"
        ],
        [
         "41",
         "1",
         "-0.3600518284958044",
         "1",
         "1",
         "0.9265867627729504",
         "0.0",
         "0",
         "0",
         "0",
         "0.6686643849444989",
         "-0.3893639156582835",
         "-0.520161166013228",
         "0.022216720256639",
         "-0.3988016606637983",
         "0"
        ],
        [
         "42",
         "0",
         "1.645347874935833",
         "2",
         "1",
         "2.6373019859160878",
         "0.0",
         "0",
         "0",
         "0",
         "-1.3684450706068798",
         "-1.206627409692101",
         "-0.9346525739332702",
         "1.857227542356892",
         "-0.2968940360832525",
         "1"
        ],
        [
         "43",
         "1",
         "-1.5396987128673558",
         "3",
         "1",
         "0.9265867627729504",
         "0.0",
         "0",
         "1",
         "0",
         "-0.995803097030408",
         "1.100940102873972",
         "-0.307158636943207",
         "0.4809694257817024",
         "-1.6216931556303482",
         "0"
        ],
        [
         "44",
         "0",
         "1.645347874935833",
         "1",
         "1",
         "-0.5275211768987158",
         "0.0",
         "0",
         "1",
         "0",
         "0.8177211743750875",
         "1.0528657796955123",
         "0.4901616407918743",
         "-1.354041396318551",
         "0.1107364622389307",
         "1"
        ],
        [
         "45",
         "1",
         "0.2297716136899713",
         "4",
         "0",
         "-0.7841284603701864",
         "0.0",
         "0",
         "0",
         "0",
         "-0.4492615357849163",
         "-1.4950733487628602",
         "-0.5547021166732318",
         "1.398474836831829",
         "1.741258455527664",
         "0"
        ],
        [
         "46",
         "0",
         "-0.2420871400586492",
         "2",
         "1",
         "0.9265867627729504",
         "0.0",
         "0",
         "0",
         "0",
         "0.072437227222144",
         "-0.3412895924798236",
         "-1.651377300128342",
         "0.4809694257817024",
         "-0.2968940360832525",
         "0"
        ],
        [
         "47",
         "0",
         "1.5273831864986778",
         "1",
         "0",
         "-0.7841284603701864",
         "0.0",
         "0",
         "0",
         "0",
         "0.1469656219374384",
         "0.091379316126315",
         "0.8269359097269078",
         "-1.078789773003513",
         "-0.2968940360832525",
         "0"
        ],
        [
         "48",
         "0",
         "-1.1858046475558903",
         "2",
         "1",
         "0.9265867627729504",
         "0.0",
         "0",
         "0",
         "0",
         "-0.6231611234539365",
         "-0.6297355315505828",
         "-0.8223944842882587",
         "1.398474836831829",
         "0.0088288376583849",
         "0"
        ],
        [
         "49",
         "0",
         "-0.3600518284958044",
         "1",
         "1",
         "0.0712291512013821",
         "0.0",
         "0",
         "0",
         "0",
         "0.3953936043217529",
         "-1.0143301169782617",
         "-1.4527668338333215",
         "1.2149737546218036",
         "1.639350830947118",
         "0"
        ]
       ],
       "shape": {
        "columns": 15,
        "rows": 3659
       }
      },
      "text/html": [
       "<div>\n",
       "<style scoped>\n",
       "    .dataframe tbody tr th:only-of-type {\n",
       "        vertical-align: middle;\n",
       "    }\n",
       "\n",
       "    .dataframe tbody tr th {\n",
       "        vertical-align: top;\n",
       "    }\n",
       "\n",
       "    .dataframe thead th {\n",
       "        text-align: right;\n",
       "    }\n",
       "</style>\n",
       "<table border=\"1\" class=\"dataframe\">\n",
       "  <thead>\n",
       "    <tr style=\"text-align: right;\">\n",
       "      <th></th>\n",
       "      <th>male</th>\n",
       "      <th>age</th>\n",
       "      <th>education</th>\n",
       "      <th>currentSmoker</th>\n",
       "      <th>cigsPerDay</th>\n",
       "      <th>BPMeds</th>\n",
       "      <th>prevalentStroke</th>\n",
       "      <th>prevalentHyp</th>\n",
       "      <th>diabetes</th>\n",
       "      <th>totChol</th>\n",
       "      <th>diaBP</th>\n",
       "      <th>BMI</th>\n",
       "      <th>heartRate</th>\n",
       "      <th>glucose</th>\n",
       "      <th>TenYearCHD</th>\n",
       "    </tr>\n",
       "  </thead>\n",
       "  <tbody>\n",
       "    <tr>\n",
       "      <th>0</th>\n",
       "      <td>1</td>\n",
       "      <td>-1.185805</td>\n",
       "      <td>4</td>\n",
       "      <td>0</td>\n",
       "      <td>-0.784128</td>\n",
       "      <td>0.0</td>\n",
       "      <td>0</td>\n",
       "      <td>0</td>\n",
       "      <td>0</td>\n",
       "      <td>-0.970960</td>\n",
       "      <td>-1.110479</td>\n",
       "      <td>0.452742</td>\n",
       "      <td>0.480969</td>\n",
       "      <td>-0.093079</td>\n",
       "      <td>0</td>\n",
       "    </tr>\n",
       "    <tr>\n",
       "      <th>1</th>\n",
       "      <td>0</td>\n",
       "      <td>-0.360052</td>\n",
       "      <td>2</td>\n",
       "      <td>0</td>\n",
       "      <td>-0.784128</td>\n",
       "      <td>0.0</td>\n",
       "      <td>0</td>\n",
       "      <td>0</td>\n",
       "      <td>0</td>\n",
       "      <td>0.395394</td>\n",
       "      <td>-0.052844</td>\n",
       "      <td>0.959343</td>\n",
       "      <td>1.857228</td>\n",
       "      <td>-0.194986</td>\n",
       "      <td>0</td>\n",
       "    </tr>\n",
       "    <tr>\n",
       "      <th>2</th>\n",
       "      <td>1</td>\n",
       "      <td>-0.124122</td>\n",
       "      <td>1</td>\n",
       "      <td>1</td>\n",
       "      <td>0.926587</td>\n",
       "      <td>0.0</td>\n",
       "      <td>0</td>\n",
       "      <td>0</td>\n",
       "      <td>0</td>\n",
       "      <td>0.271180</td>\n",
       "      <td>-0.148992</td>\n",
       "      <td>-0.016439</td>\n",
       "      <td>0.022217</td>\n",
       "      <td>-0.806432</td>\n",
       "      <td>0</td>\n",
       "    </tr>\n",
       "    <tr>\n",
       "      <th>3</th>\n",
       "      <td>0</td>\n",
       "      <td>1.409418</td>\n",
       "      <td>3</td>\n",
       "      <td>1</td>\n",
       "      <td>1.781944</td>\n",
       "      <td>0.0</td>\n",
       "      <td>0</td>\n",
       "      <td>1</td>\n",
       "      <td>0</td>\n",
       "      <td>-0.225676</td>\n",
       "      <td>1.293237</td>\n",
       "      <td>0.916167</td>\n",
       "      <td>-0.895289</td>\n",
       "      <td>2.556519</td>\n",
       "      <td>1</td>\n",
       "    </tr>\n",
       "    <tr>\n",
       "      <th>4</th>\n",
       "      <td>0</td>\n",
       "      <td>-0.360052</td>\n",
       "      <td>3</td>\n",
       "      <td>1</td>\n",
       "      <td>1.183194</td>\n",
       "      <td>0.0</td>\n",
       "      <td>0</td>\n",
       "      <td>0</td>\n",
       "      <td>0</td>\n",
       "      <td>1.264892</td>\n",
       "      <td>0.235602</td>\n",
       "      <td>-0.661203</td>\n",
       "      <td>0.939722</td>\n",
       "      <td>0.722182</td>\n",
       "      <td>0</td>\n",
       "    </tr>\n",
       "    <tr>\n",
       "      <th>...</th>\n",
       "      <td>...</td>\n",
       "      <td>...</td>\n",
       "      <td>...</td>\n",
       "      <td>...</td>\n",
       "      <td>...</td>\n",
       "      <td>...</td>\n",
       "      <td>...</td>\n",
       "      <td>...</td>\n",
       "      <td>...</td>\n",
       "      <td>...</td>\n",
       "      <td>...</td>\n",
       "      <td>...</td>\n",
       "      <td>...</td>\n",
       "      <td>...</td>\n",
       "      <td>...</td>\n",
       "    </tr>\n",
       "    <tr>\n",
       "      <th>3654</th>\n",
       "      <td>1</td>\n",
       "      <td>0.229772</td>\n",
       "      <td>3</td>\n",
       "      <td>1</td>\n",
       "      <td>2.893909</td>\n",
       "      <td>0.0</td>\n",
       "      <td>0</td>\n",
       "      <td>0</td>\n",
       "      <td>0</td>\n",
       "      <td>-0.672847</td>\n",
       "      <td>-0.148992</td>\n",
       "      <td>-1.636985</td>\n",
       "      <td>-0.895289</td>\n",
       "      <td>-1.010247</td>\n",
       "      <td>0</td>\n",
       "    </tr>\n",
       "    <tr>\n",
       "      <th>3655</th>\n",
       "      <td>0</td>\n",
       "      <td>-0.124122</td>\n",
       "      <td>2</td>\n",
       "      <td>1</td>\n",
       "      <td>0.926587</td>\n",
       "      <td>0.0</td>\n",
       "      <td>0</td>\n",
       "      <td>0</td>\n",
       "      <td>0</td>\n",
       "      <td>0.345708</td>\n",
       "      <td>-0.918181</td>\n",
       "      <td>-0.977829</td>\n",
       "      <td>0.847972</td>\n",
       "      <td>0.824090</td>\n",
       "      <td>0</td>\n",
       "    </tr>\n",
       "    <tr>\n",
       "      <th>3656</th>\n",
       "      <td>0</td>\n",
       "      <td>-0.595981</td>\n",
       "      <td>1</td>\n",
       "      <td>1</td>\n",
       "      <td>0.498908</td>\n",
       "      <td>0.0</td>\n",
       "      <td>0</td>\n",
       "      <td>0</td>\n",
       "      <td>0</td>\n",
       "      <td>-0.598318</td>\n",
       "      <td>0.524048</td>\n",
       "      <td>-1.795298</td>\n",
       "      <td>1.031473</td>\n",
       "      <td>0.008829</td>\n",
       "      <td>0</td>\n",
       "    </tr>\n",
       "    <tr>\n",
       "      <th>3657</th>\n",
       "      <td>1</td>\n",
       "      <td>-1.067840</td>\n",
       "      <td>3</td>\n",
       "      <td>0</td>\n",
       "      <td>-0.784128</td>\n",
       "      <td>0.0</td>\n",
       "      <td>0</td>\n",
       "      <td>1</td>\n",
       "      <td>0</td>\n",
       "      <td>-1.219388</td>\n",
       "      <td>1.581683</td>\n",
       "      <td>0.058400</td>\n",
       "      <td>-0.711788</td>\n",
       "      <td>-0.602617</td>\n",
       "      <td>0</td>\n",
       "    </tr>\n",
       "    <tr>\n",
       "      <th>3658</th>\n",
       "      <td>0</td>\n",
       "      <td>-1.185805</td>\n",
       "      <td>3</td>\n",
       "      <td>1</td>\n",
       "      <td>1.781944</td>\n",
       "      <td>0.0</td>\n",
       "      <td>0</td>\n",
       "      <td>0</td>\n",
       "      <td>0</td>\n",
       "      <td>-0.946118</td>\n",
       "      <td>0.427900</td>\n",
       "      <td>-1.291576</td>\n",
       "      <td>0.939722</td>\n",
       "      <td>0.212644</td>\n",
       "      <td>0</td>\n",
       "    </tr>\n",
       "  </tbody>\n",
       "</table>\n",
       "<p>3659 rows × 15 columns</p>\n",
       "</div>"
      ],
      "text/plain": [
       "      male       age  education  currentSmoker  cigsPerDay  BPMeds  \\\n",
       "0        1 -1.185805          4              0   -0.784128     0.0   \n",
       "1        0 -0.360052          2              0   -0.784128     0.0   \n",
       "2        1 -0.124122          1              1    0.926587     0.0   \n",
       "3        0  1.409418          3              1    1.781944     0.0   \n",
       "4        0 -0.360052          3              1    1.183194     0.0   \n",
       "...    ...       ...        ...            ...         ...     ...   \n",
       "3654     1  0.229772          3              1    2.893909     0.0   \n",
       "3655     0 -0.124122          2              1    0.926587     0.0   \n",
       "3656     0 -0.595981          1              1    0.498908     0.0   \n",
       "3657     1 -1.067840          3              0   -0.784128     0.0   \n",
       "3658     0 -1.185805          3              1    1.781944     0.0   \n",
       "\n",
       "      prevalentStroke  prevalentHyp  diabetes   totChol     diaBP       BMI  \\\n",
       "0                   0             0         0 -0.970960 -1.110479  0.452742   \n",
       "1                   0             0         0  0.395394 -0.052844  0.959343   \n",
       "2                   0             0         0  0.271180 -0.148992 -0.016439   \n",
       "3                   0             1         0 -0.225676  1.293237  0.916167   \n",
       "4                   0             0         0  1.264892  0.235602 -0.661203   \n",
       "...               ...           ...       ...       ...       ...       ...   \n",
       "3654                0             0         0 -0.672847 -0.148992 -1.636985   \n",
       "3655                0             0         0  0.345708 -0.918181 -0.977829   \n",
       "3656                0             0         0 -0.598318  0.524048 -1.795298   \n",
       "3657                0             1         0 -1.219388  1.581683  0.058400   \n",
       "3658                0             0         0 -0.946118  0.427900 -1.291576   \n",
       "\n",
       "      heartRate   glucose  TenYearCHD  \n",
       "0      0.480969 -0.093079           0  \n",
       "1      1.857228 -0.194986           0  \n",
       "2      0.022217 -0.806432           0  \n",
       "3     -0.895289  2.556519           1  \n",
       "4      0.939722  0.722182           0  \n",
       "...         ...       ...         ...  \n",
       "3654  -0.895289 -1.010247           0  \n",
       "3655   0.847972  0.824090           0  \n",
       "3656   1.031473  0.008829           0  \n",
       "3657  -0.711788 -0.602617           0  \n",
       "3658   0.939722  0.212644           0  \n",
       "\n",
       "[3659 rows x 15 columns]"
      ]
     },
     "execution_count": 104,
     "metadata": {},
     "output_type": "execute_result"
    }
   ],
   "source": [
    "# Load the DataFrame\n",
    "df = pd.read_csv(file_path)\n",
    "\n",
    "# Make education column an int datatype\n",
    "df['education'] = df['education'].astype(int)\n",
    "\n",
    "# print the first 5 rows\n",
    "df"
   ]
  },
  {
   "cell_type": "markdown",
   "id": "9fd81afc",
   "metadata": {},
   "source": [
    "_____"
   ]
  },
  {
   "cell_type": "markdown",
   "id": "a2e73852",
   "metadata": {},
   "source": [
    "**Step 2: Define x and y Variables**"
   ]
  },
  {
   "cell_type": "code",
   "execution_count": 105,
   "id": "39d89bd2",
   "metadata": {},
   "outputs": [],
   "source": [
    "# Define x variables\n",
    "X = df.drop(columns=['TenYearCHD'])\n",
    "\n",
    "# Define the constant\n",
    "X = sm.add_constant(X)\n",
    "\n",
    "# Define y variable\n",
    "y = df['TenYearCHD']"
   ]
  },
  {
   "cell_type": "markdown",
   "id": "5b2acee0",
   "metadata": {},
   "source": [
    "_____"
   ]
  },
  {
   "cell_type": "markdown",
   "id": "1e37d009",
   "metadata": {},
   "source": [
    "**Step 3: Split into Training and Testing Data**"
   ]
  },
  {
   "cell_type": "code",
   "execution_count": 106,
   "id": "98aa2322",
   "metadata": {},
   "outputs": [],
   "source": [
    "# Split the data\n",
    "X_train, X_test, y_train, y_test = train_test_split(X, y, test_size=0.2, random_state=42, stratify=y)"
   ]
  },
  {
   "cell_type": "markdown",
   "id": "512ce283",
   "metadata": {},
   "source": [
    "Apply SMOTE"
   ]
  },
  {
   "cell_type": "code",
   "execution_count": 107,
   "id": "4e3b21a6",
   "metadata": {},
   "outputs": [],
   "source": [
    "# Balance the data using SMOTE\n",
    "smote = SMOTE(random_state=42)\n",
    "\n",
    "# Apply smote to the training data\n",
    "X_train, y_train = smote.fit_resample(X_train, y_train)"
   ]
  },
  {
   "cell_type": "markdown",
   "id": "3e089fa2",
   "metadata": {},
   "source": [
    "____"
   ]
  },
  {
   "cell_type": "markdown",
   "id": "55f28fb8",
   "metadata": {},
   "source": [
    "**Step 4: Fit the Logit Model**"
   ]
  },
  {
   "cell_type": "code",
   "execution_count": 108,
   "id": "a4087dd2",
   "metadata": {},
   "outputs": [
    {
     "name": "stdout",
     "output_type": "stream",
     "text": [
      "Optimization terminated successfully.\n",
      "         Current function value: 0.613806\n",
      "         Iterations 6\n"
     ]
    }
   ],
   "source": [
    "# 4. Fit the model\n",
    "model = sm.Logit(y_train, X_train)\n",
    "result = model.fit()"
   ]
  },
  {
   "cell_type": "markdown",
   "id": "56596ec5",
   "metadata": {},
   "source": [
    "_____"
   ]
  },
  {
   "cell_type": "markdown",
   "id": "5cab2b7f",
   "metadata": {},
   "source": [
    "**Step 5: Predict on the Test Set and Interpret Results**"
   ]
  },
  {
   "cell_type": "markdown",
   "id": "74dcdabb",
   "metadata": {},
   "source": [
    "Create function to return model and columns removed from model"
   ]
  },
  {
   "cell_type": "code",
   "execution_count": 109,
   "id": "8d6453ee",
   "metadata": {},
   "outputs": [],
   "source": [
    "def backwards_stepwise(X, Y, significance_level=0.01):\n",
    "    features = X.columns.tolist()\n",
    "    \n",
    "    # Assume the constant column is named 'const' (check your actual name!)\n",
    "    intercept = 'const' if 'const' in features else features[0]  # fallback\n",
    "\n",
    "    while True:\n",
    "        model = sm.Logit(Y, X[features]).fit(disp=False)\n",
    "        pvalues = model.pvalues.drop(intercept)  # exclude intercept manually\n",
    "        max_pval = pvalues.max()\n",
    "\n",
    "        if max_pval > significance_level:\n",
    "            excluded_feature = pvalues.idxmax() # Find the name of the column to exclude\n",
    "            features.remove(excluded_feature) \n",
    "            print(f\"Dropped '{excluded_feature}' with p={max_pval:.4f}\")\n",
    "        else:\n",
    "            break\n",
    "\n",
    "    logit_model = sm.Logit(Y, X[features]).fit(disp=False)\n",
    "    return logit_model, features"
   ]
  },
  {
   "cell_type": "markdown",
   "id": "113b5764",
   "metadata": {},
   "source": [
    "Run Stepwise Function"
   ]
  },
  {
   "cell_type": "code",
   "execution_count": 110,
   "id": "a7afc901",
   "metadata": {},
   "outputs": [
    {
     "name": "stdout",
     "output_type": "stream",
     "text": [
      "Dropped 'prevalentStroke' with p=0.9572\n",
      "Dropped 'BMI' with p=0.9077\n",
      "Dropped 'BPMeds' with p=0.6620\n",
      "Dropped 'totChol' with p=0.3024\n",
      "Dropped 'male' with p=0.0795\n",
      "Dropped 'heartRate' with p=0.0663\n",
      "Dropped 'diabetes' with p=0.0233\n"
     ]
    }
   ],
   "source": [
    "# Run the function and define variables for the output\n",
    "logit_model, selected_features = backwards_stepwise(X_train, y_train, significance_level=0.01)"
   ]
  },
  {
   "cell_type": "markdown",
   "id": "6bcc0af7",
   "metadata": {},
   "source": [
    "Predict the probabilities"
   ]
  },
  {
   "cell_type": "code",
   "execution_count": 111,
   "id": "0dd76322",
   "metadata": {},
   "outputs": [],
   "source": [
    "# Retrivie the probabilities\n",
    "y_pred_prob = logit_model.predict(X_test[selected_features])\n",
    "\n",
    "# Convert probabilities to binary predictions\n",
    "y_pred = (y_pred_prob >= 0.5).astype(int)"
   ]
  },
  {
   "cell_type": "markdown",
   "id": "45ced4d2",
   "metadata": {},
   "source": [
    "Create Confusion Matrix and associated metrics"
   ]
  },
  {
   "cell_type": "code",
   "execution_count": 112,
   "id": "31cf48c0",
   "metadata": {},
   "outputs": [
    {
     "data": {
      "image/png": "[encoded data removed]",
      "text/plain": [
       "<Figure size 800x600 with 1 Axes>"
      ]
     },
     "metadata": {},
     "output_type": "display_data"
    },
    {
     "name": "stdout",
     "output_type": "stream",
     "text": [
      "Accuracy: 0.6639344262295082\n",
      "\n",
      "Classification Report:\n",
      "               precision    recall  f1-score   support\n",
      "\n",
      "           0       0.92      0.67      0.77       634\n",
      "           1       0.23      0.64      0.34        98\n",
      "\n",
      "    accuracy                           0.66       732\n",
      "   macro avg       0.58      0.66      0.56       732\n",
      "weighted avg       0.83      0.66      0.72       732\n",
      "\n"
     ]
    }
   ],
   "source": [
    "# Generate the confusion matrix\n",
    "cm = confusion_matrix(y_test, y_pred)\n",
    "\n",
    "# Confusion Matrix Visualization\n",
    "plt.figure(figsize=(8, 6))\n",
    "sns.heatmap(cm, annot=True, fmt='d', cmap='Blues', cbar=False, xticklabels=['No CHD', 'CHD'], yticklabels=['No CHD', 'CHD'])\n",
    "plt.title('Confusion Matrix')\n",
    "plt.xlabel('Predicted')\n",
    "plt.ylabel('Actual')\n",
    "plt.show()\n",
    "\n",
    "# Print accuracy and other metrics\n",
    "print(\"Accuracy:\", accuracy_score(y_test, y_pred))\n",
    "print(\"\\nClassification Report:\\n\", classification_report(y_test, y_pred))"
   ]
  },
  {
   "cell_type": "markdown",
   "id": "bb4bb415",
   "metadata": {},
   "source": [
    "*Conclusion: The model is overly predicting people as not at risk. There is a high level of false negatives and a low number of true negatives (very low recall for the 0 class), indicating the model is biased. More investigation is needed for why the model is biased. SMOTE may have improved the model, however, more investigation is needed to determine why this bias is present*"
   ]
  },
  {
   "cell_type": "markdown",
   "id": "478a64aa",
   "metadata": {},
   "source": [
    "Visualize ROC Curve"
   ]
  },
  {
   "cell_type": "code",
   "execution_count": 113,
   "id": "bc6176b2",
   "metadata": {},
   "outputs": [
    {
     "data": {
      "image/png": "[encoded data removed]",
      "text/plain": [
       "<Figure size 800x600 with 1 Axes>"
      ]
     },
     "metadata": {},
     "output_type": "display_data"
    },
    {
     "name": "stdout",
     "output_type": "stream",
     "text": [
      "ROC AUC Score: 0.7093607158951908\n"
     ]
    }
   ],
   "source": [
    "# ROC Curve Visualization\n",
    "fpr, tpr, thresholds = roc_curve(y_test, y_pred_prob)\n",
    "roc_auc = auc(fpr, tpr)\n",
    "plt.figure(figsize=(8, 6))\n",
    "plt.plot(fpr, tpr, color='blue', label='ROC curve (area = %0.2f)' % roc_auc)\n",
    "plt.plot([0, 1], [0, 1], color='red', linestyle='--')\n",
    "plt.xlim([0.0, 1.0])\n",
    "plt.ylim([0.0, 1.05])\n",
    "plt.xlabel('False Positive Rate')\n",
    "plt.ylabel('True Positive Rate')\n",
    "plt.title('ROC Curve')\n",
    "plt.legend(loc='lower right')\n",
    "plt.show()\n",
    "\n",
    "# See the ROC AUC score\n",
    "print(\"ROC AUC Score:\", roc_auc_score(y_test, y_pred_prob))"
   ]
  },
  {
   "cell_type": "markdown",
   "id": "fd585e39",
   "metadata": {},
   "source": [
    "*Conclusion: The model is not very good. The ROC curve is close to the 50% line, which in essence says that the model is slightly better than a coin flip. Cross-validation is needed for a deeper understanding of what is going on*"
   ]
  },
  {
   "cell_type": "markdown",
   "id": "e72ec7c9",
   "metadata": {},
   "source": [
    "_____"
   ]
  },
  {
   "cell_type": "markdown",
   "id": "a533ce57",
   "metadata": {},
   "source": [
    "**Step 6: Use Cross Validation to Help with Parameter Tuning**"
   ]
  },
  {
   "cell_type": "code",
   "execution_count": 114,
   "id": "438713a7",
   "metadata": {},
   "outputs": [
    {
     "name": "stdout",
     "output_type": "stream",
     "text": [
      "Cross-validated accuracies: [0.63708087 0.67159763 0.66074951 0.6617357  0.67948718]\n",
      "Average accuracy: 0.6621301775147929\n"
     ]
    }
   ],
   "source": [
    "# Create the logistic regression model\n",
    "clf = LogisticRegression(random_state=42, max_iter=1000)\n",
    "\n",
    "# Isolate the selected features for cross-validation\n",
    "X_selected = X_train[selected_features]\n",
    "\n",
    "# Cross-validation\n",
    "scores = cross_val_score(clf, X_selected, y_train, cv=5, scoring='accuracy')\n",
    "\n",
    "# Report the results\n",
    "print(\"Cross-validated accuracies:\", scores)\n",
    "print(\"Average accuracy:\", scores.mean())"
   ]
  },
  {
   "cell_type": "markdown",
   "id": "d86fc82c",
   "metadata": {},
   "source": [
    "Hyperparameter Tuning"
   ]
  },
  {
   "cell_type": "code",
   "execution_count": 115,
   "id": "bde11153",
   "metadata": {},
   "outputs": [
    {
     "name": "stdout",
     "output_type": "stream",
     "text": [
      "Best hyperparameters: {'C': 5, 'penalty': 'l2', 'solver': 'liblinear'}\n",
      "Best cross-validated accuracy: 0.6615384615384616\n"
     ]
    }
   ],
   "source": [
    "# Grid of hyperparameters to search\n",
    "param_grid = {\n",
    "    'C': [0.01, 0.1, 0.5, 0.75, 1, 5, 10, 100, 1000], # regularization strength\n",
    "    'penalty': ['l2'], # type of penalty\n",
    "    'solver': ['liblinear'] # algorithm to use\n",
    "}\n",
    "\n",
    "# GridSearch with 5-fold cross-validation\n",
    "grid_search = GridSearchCV(clf, param_grid, cv=5, scoring='accuracy')\n",
    "\n",
    "# Fit the model to the training data\n",
    "grid_search.fit(X_train, y_train)\n",
    "\n",
    "# Best parameters and score\n",
    "print(\"Best hyperparameters:\", grid_search.best_params_)\n",
    "print(\"Best cross-validated accuracy:\", grid_search.best_score_)"
   ]
  },
  {
   "cell_type": "markdown",
   "id": "8769bad8",
   "metadata": {},
   "source": [
    "Apply Parameters and Recalculate Predicted Ys"
   ]
  },
  {
   "cell_type": "code",
   "execution_count": 116,
   "id": "e3685cac",
   "metadata": {},
   "outputs": [],
   "source": [
    "# Create new model with best parameters\n",
    "best_model = grid_search.best_estimator_\n",
    "\n",
    "# Get new predictions and probabilities based on new parameters\n",
    "y_pred = grid_search.best_estimator_.predict(X_test)\n",
    "y_prob = grid_search.best_estimator_.predict_proba(X_test)[:, 1]"
   ]
  },
  {
   "cell_type": "markdown",
   "id": "7ba7889e",
   "metadata": {},
   "source": [
    "Confusion Matrix"
   ]
  },
  {
   "cell_type": "code",
   "execution_count": 117,
   "id": "97d7cfed",
   "metadata": {},
   "outputs": [
    {
     "data": {
      "image/png": "[encoded data removed]",
      "text/plain": [
       "<Figure size 800x600 with 1 Axes>"
      ]
     },
     "metadata": {},
     "output_type": "display_data"
    },
    {
     "name": "stdout",
     "output_type": "stream",
     "text": [
      "Accuracy: 0.6584699453551912\n",
      "\n",
      "Classification Report:\n",
      "               precision    recall  f1-score   support\n",
      "\n",
      "           0       0.92      0.67      0.77       634\n",
      "           1       0.22      0.61      0.32        98\n",
      "\n",
      "    accuracy                           0.66       732\n",
      "   macro avg       0.57      0.64      0.55       732\n",
      "weighted avg       0.82      0.66      0.71       732\n",
      "\n"
     ]
    }
   ],
   "source": [
    "# Generate the confusion matrix\n",
    "cm_tuned = confusion_matrix(y_test, y_pred)\n",
    "\n",
    "# Confusion Matrix Visualization\n",
    "plt.figure(figsize=(8, 6))\n",
    "sns.heatmap(cm_tuned, annot=True, fmt='d', cmap='Blues', cbar=False, xticklabels=['No CHD', 'CHD'], yticklabels=['No CHD', 'CHD'])\n",
    "plt.title('Confusion Matrix')\n",
    "plt.xlabel('Predicted')\n",
    "plt.ylabel('Actual')\n",
    "plt.show()\n",
    "\n",
    "# Print accuracy and other metrics\n",
    "print(\"Accuracy:\", accuracy_score(y_test, y_pred))\n",
    "print(\"\\nClassification Report:\\n\", classification_report(y_test, y_pred))"
   ]
  },
  {
   "cell_type": "markdown",
   "id": "52e14d5a",
   "metadata": {},
   "source": [
    "ROC Curve"
   ]
  },
  {
   "cell_type": "code",
   "execution_count": 118,
   "id": "c230c511",
   "metadata": {},
   "outputs": [
    {
     "data": {
      "image/png": "[encoded data removed]",
      "text/plain": [
       "<Figure size 800x600 with 1 Axes>"
      ]
     },
     "metadata": {},
     "output_type": "display_data"
    },
    {
     "name": "stdout",
     "output_type": "stream",
     "text": [
      "ROC AUC Score: 0.7093607158951908\n"
     ]
    }
   ],
   "source": [
    "# Create variables for the ROC curve\n",
    "fpr_tuned, tpr_tuned, thresholds_tuned = roc_curve(y_test, y_pred_prob) # y_pred_prob\n",
    "roc_auc_tuned = auc(fpr_tuned, tpr_tuned)\n",
    "\n",
    "# ROC Curve Visualization\n",
    "plt.figure(figsize=(8, 6))\n",
    "plt.plot(fpr_tuned, tpr_tuned, color='blue', label='ROC curve (area = %0.2f)' % roc_auc_tuned)\n",
    "plt.plot([0, 1], [0, 1], color='red', linestyle='--')\n",
    "plt.xlim([0.0, 1.0])\n",
    "plt.ylim([0.0, 1.05])\n",
    "plt.xlabel('False Positive Rate')\n",
    "plt.ylabel('True Positive Rate')\n",
    "plt.title('ROC Curve')\n",
    "plt.legend(loc='lower right')\n",
    "plt.show()\n",
    "\n",
    "# See the ROC AUC score\n",
    "print(\"ROC AUC Score:\", roc_auc_score(y_test, y_pred_prob))"
   ]
  }
 ],
 "metadata": {
  "kernelspec": {
   "display_name": "base",
   "language": "python",
   "name": "python3"
  },
  "language_info": {
   "codemirror_mode": {
    "name": "ipython",
    "version": 3
   },
   "file_extension": ".py",
   "mimetype": "text/x-python",
   "name": "python",
   "nbconvert_exporter": "python",
   "pygments_lexer": "ipython3",
   "version": "3.12.7"
  }
 },
 "nbformat": 4,
 "nbformat_minor": 5
}
