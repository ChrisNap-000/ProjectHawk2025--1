{
 "cells": [
  {
   "cell_type": "markdown",
   "id": "7b1aeff6",
   "metadata": {},
   "source": [
    "Determine file path"
   ]
  },
  {
   "cell_type": "code",
   "execution_count": null,
   "id": "2bdfebfa",
   "metadata": {},
   "outputs": [],
   "source": [
    "# Reaplce with your file path\n",
    "file_path = r\"C:\\\\Users\\\\Chris Napoli\\\\OneDrive\\\\Desktop\\\\Analytics With ML\\\\Final Project Repo\\\\ProjectHawk2025\\\\Data Dictionary\\\\Heart Study Data Dictionary.csv\""
   ]
  },
  {
   "cell_type": "markdown",
   "id": "d328bff1",
   "metadata": {},
   "source": [
    "Load Pandas"
   ]
  },
  {
   "cell_type": "code",
   "execution_count": null,
   "id": "cd7698a1",
   "metadata": {},
   "outputs": [],
   "source": [
    "# Import Pandas\n",
    "import pandas as pd"
   ]
  },
  {
   "cell_type": "markdown",
   "id": "db309fa2",
   "metadata": {},
   "source": [
    "Load and view dataframe"
   ]
  },
  {
   "cell_type": "code",
   "execution_count": null,
   "id": "53f916ff",
   "metadata": {},
   "outputs": [
    {
     "data": {
      "application/vnd.microsoft.datawrangler.viewer.v0+json": {
       "columns": [
        {
         "name": "index",
         "rawType": "int64",
         "type": "integer"
        },
        {
         "name": "Field names",
         "rawType": "object",
         "type": "string"
        },
        {
         "name": "Data Type (Kaggle)",
         "rawType": "object",
         "type": "string"
        },
        {
         "name": "Desired Data Type",
         "rawType": "object",
         "type": "string"
        },
        {
         "name": "Indicator Column",
         "rawType": "object",
         "type": "string"
        },
        {
         "name": "Target Variable",
         "rawType": "object",
         "type": "string"
        },
        {
         "name": "Description",
         "rawType": "object",
         "type": "string"
        }
       ],
       "conversionMethod": "pd.DataFrame",
       "ref": "c5c0ed21-6f52-4570-8812-78cde9108455",
       "rows": [
        [
         "0",
         "male",
         "int",
         "int",
         "Yes",
         "No",
         "Indicates if the patient is male (1) or female (0)"
        ],
        [
         "1",
         "age",
         "int",
         "int",
         "No",
         "No",
         "Age of patient in years"
        ],
        [
         "2",
         "education",
         "String",
         "int",
         "No",
         "No",
         "Education level of the patient (1 to 4)"
        ],
        [
         "3",
         "currentSmoker",
         "int",
         "int",
         "Yes",
         "No",
         "Indicates if the patient is a current smoker (1) or not (0)"
        ],
        [
         "4",
         "cigsPerDay",
         "String",
         "int",
         "No",
         "No",
         "Number of cigarettes smoked per day"
        ],
        [
         "5",
         "BPMeds",
         "String",
         "int",
         "Yes",
         "No",
         "Indicates if the patient is on blood pressure medication (1) or not (0)"
        ],
        [
         "6",
         "prevalentStroke",
         "int",
         "int",
         "Yes",
         "No",
         "Indicates if the patient has a history of stroke (1) or not (0)"
        ],
        [
         "7",
         "prevalentHyp",
         "int",
         "int",
         "Yes",
         "No",
         "Indicates if the patient has a history of hypertension (1) or not (0)"
        ],
        [
         "8",
         "diabetes",
         "Int",
         "int",
         "Yes",
         "No",
         "Indicates if the patient has diabetes (1) or not (0)"
        ],
        [
         "9",
         "totChol",
         "String",
         "int",
         "No",
         "No",
         "Total cholesterol level of the patient"
        ],
        [
         "10",
         "sysBP",
         "Float",
         "Float",
         "No",
         "No",
         "Systolic blood pressure of the patient"
        ],
        [
         "11",
         "diaBP",
         "int",
         "int",
         "No",
         "No",
         "Diastolic blood pressure of the patient"
        ],
        [
         "12",
         "BMI",
         "String",
         "Float",
         "No",
         "No",
         "Body Mass Index of the patient"
        ],
        [
         "13",
         "heartRate",
         "String",
         "int",
         "No",
         "No",
         "Heart rate of the patient"
        ],
        [
         "14",
         "glucose",
         "String",
         "int",
         "No",
         "No",
         "Glucose level of the patient"
        ],
        [
         "15",
         "TenYearCHD",
         "int",
         "int",
         "Yes",
         "Yes",
         "Indicates the 10-year risk of coronary heart disease (1) or not (0)"
        ]
       ],
       "shape": {
        "columns": 6,
        "rows": 16
       }
      },
      "text/html": [
       "<div>\n",
       "<style scoped>\n",
       "    .dataframe tbody tr th:only-of-type {\n",
       "        vertical-align: middle;\n",
       "    }\n",
       "\n",
       "    .dataframe tbody tr th {\n",
       "        vertical-align: top;\n",
       "    }\n",
       "\n",
       "    .dataframe thead th {\n",
       "        text-align: right;\n",
       "    }\n",
       "</style>\n",
       "<table border=\"1\" class=\"dataframe\">\n",
       "  <thead>\n",
       "    <tr style=\"text-align: right;\">\n",
       "      <th></th>\n",
       "      <th>Field names</th>\n",
       "      <th>Data Type (Kaggle)</th>\n",
       "      <th>Desired Data Type</th>\n",
       "      <th>Indicator Column</th>\n",
       "      <th>Target Variable</th>\n",
       "      <th>Description</th>\n",
       "    </tr>\n",
       "  </thead>\n",
       "  <tbody>\n",
       "    <tr>\n",
       "      <th>0</th>\n",
       "      <td>male</td>\n",
       "      <td>int</td>\n",
       "      <td>int</td>\n",
       "      <td>Yes</td>\n",
       "      <td>No</td>\n",
       "      <td>Indicates if the patient is male (1) or female...</td>\n",
       "    </tr>\n",
       "    <tr>\n",
       "      <th>1</th>\n",
       "      <td>age</td>\n",
       "      <td>int</td>\n",
       "      <td>int</td>\n",
       "      <td>No</td>\n",
       "      <td>No</td>\n",
       "      <td>Age of patient in years</td>\n",
       "    </tr>\n",
       "    <tr>\n",
       "      <th>2</th>\n",
       "      <td>education</td>\n",
       "      <td>String</td>\n",
       "      <td>int</td>\n",
       "      <td>No</td>\n",
       "      <td>No</td>\n",
       "      <td>Education level of the patient (1 to 4)</td>\n",
       "    </tr>\n",
       "    <tr>\n",
       "      <th>3</th>\n",
       "      <td>currentSmoker</td>\n",
       "      <td>int</td>\n",
       "      <td>int</td>\n",
       "      <td>Yes</td>\n",
       "      <td>No</td>\n",
       "      <td>Indicates if the patient is a current smoker (...</td>\n",
       "    </tr>\n",
       "    <tr>\n",
       "      <th>4</th>\n",
       "      <td>cigsPerDay</td>\n",
       "      <td>String</td>\n",
       "      <td>int</td>\n",
       "      <td>No</td>\n",
       "      <td>No</td>\n",
       "      <td>Number of cigarettes smoked per day</td>\n",
       "    </tr>\n",
       "    <tr>\n",
       "      <th>5</th>\n",
       "      <td>BPMeds</td>\n",
       "      <td>String</td>\n",
       "      <td>int</td>\n",
       "      <td>Yes</td>\n",
       "      <td>No</td>\n",
       "      <td>Indicates if the patient is on blood pressure ...</td>\n",
       "    </tr>\n",
       "    <tr>\n",
       "      <th>6</th>\n",
       "      <td>prevalentStroke</td>\n",
       "      <td>int</td>\n",
       "      <td>int</td>\n",
       "      <td>Yes</td>\n",
       "      <td>No</td>\n",
       "      <td>Indicates if the patient has a history of stro...</td>\n",
       "    </tr>\n",
       "    <tr>\n",
       "      <th>7</th>\n",
       "      <td>prevalentHyp</td>\n",
       "      <td>int</td>\n",
       "      <td>int</td>\n",
       "      <td>Yes</td>\n",
       "      <td>No</td>\n",
       "      <td>Indicates if the patient has a history of hype...</td>\n",
       "    </tr>\n",
       "    <tr>\n",
       "      <th>8</th>\n",
       "      <td>diabetes</td>\n",
       "      <td>Int</td>\n",
       "      <td>int</td>\n",
       "      <td>Yes</td>\n",
       "      <td>No</td>\n",
       "      <td>Indicates if the patient has diabetes (1) or n...</td>\n",
       "    </tr>\n",
       "    <tr>\n",
       "      <th>9</th>\n",
       "      <td>totChol</td>\n",
       "      <td>String</td>\n",
       "      <td>int</td>\n",
       "      <td>No</td>\n",
       "      <td>No</td>\n",
       "      <td>Total cholesterol level of the patient</td>\n",
       "    </tr>\n",
       "    <tr>\n",
       "      <th>10</th>\n",
       "      <td>sysBP</td>\n",
       "      <td>Float</td>\n",
       "      <td>Float</td>\n",
       "      <td>No</td>\n",
       "      <td>No</td>\n",
       "      <td>Systolic blood pressure of the patient</td>\n",
       "    </tr>\n",
       "    <tr>\n",
       "      <th>11</th>\n",
       "      <td>diaBP</td>\n",
       "      <td>int</td>\n",
       "      <td>int</td>\n",
       "      <td>No</td>\n",
       "      <td>No</td>\n",
       "      <td>Diastolic blood pressure of the patient</td>\n",
       "    </tr>\n",
       "    <tr>\n",
       "      <th>12</th>\n",
       "      <td>BMI</td>\n",
       "      <td>String</td>\n",
       "      <td>Float</td>\n",
       "      <td>No</td>\n",
       "      <td>No</td>\n",
       "      <td>Body Mass Index of the patient</td>\n",
       "    </tr>\n",
       "    <tr>\n",
       "      <th>13</th>\n",
       "      <td>heartRate</td>\n",
       "      <td>String</td>\n",
       "      <td>int</td>\n",
       "      <td>No</td>\n",
       "      <td>No</td>\n",
       "      <td>Heart rate of the patient</td>\n",
       "    </tr>\n",
       "    <tr>\n",
       "      <th>14</th>\n",
       "      <td>glucose</td>\n",
       "      <td>String</td>\n",
       "      <td>int</td>\n",
       "      <td>No</td>\n",
       "      <td>No</td>\n",
       "      <td>Glucose level of the patient</td>\n",
       "    </tr>\n",
       "    <tr>\n",
       "      <th>15</th>\n",
       "      <td>TenYearCHD</td>\n",
       "      <td>int</td>\n",
       "      <td>int</td>\n",
       "      <td>Yes</td>\n",
       "      <td>Yes</td>\n",
       "      <td>Indicates the 10-year risk of coronary heart d...</td>\n",
       "    </tr>\n",
       "  </tbody>\n",
       "</table>\n",
       "</div>"
      ],
      "text/plain": [
       "        Field names Data Type (Kaggle) Desired Data Type Indicator Column  \\\n",
       "0              male                int               int              Yes   \n",
       "1               age                int               int               No   \n",
       "2         education             String               int               No   \n",
       "3     currentSmoker                int               int              Yes   \n",
       "4        cigsPerDay             String               int               No   \n",
       "5            BPMeds             String               int              Yes   \n",
       "6   prevalentStroke                int               int              Yes   \n",
       "7      prevalentHyp                int               int              Yes   \n",
       "8          diabetes                Int               int              Yes   \n",
       "9           totChol             String               int               No   \n",
       "10            sysBP              Float             Float               No   \n",
       "11            diaBP                int               int               No   \n",
       "12              BMI             String             Float               No   \n",
       "13        heartRate             String               int               No   \n",
       "14          glucose             String               int               No   \n",
       "15       TenYearCHD                int               int              Yes   \n",
       "\n",
       "   Target Variable                                        Description  \n",
       "0               No  Indicates if the patient is male (1) or female...  \n",
       "1               No                            Age of patient in years  \n",
       "2               No            Education level of the patient (1 to 4)  \n",
       "3               No  Indicates if the patient is a current smoker (...  \n",
       "4               No                Number of cigarettes smoked per day  \n",
       "5               No  Indicates if the patient is on blood pressure ...  \n",
       "6               No  Indicates if the patient has a history of stro...  \n",
       "7               No  Indicates if the patient has a history of hype...  \n",
       "8               No  Indicates if the patient has diabetes (1) or n...  \n",
       "9               No             Total cholesterol level of the patient  \n",
       "10              No             Systolic blood pressure of the patient  \n",
       "11              No            Diastolic blood pressure of the patient  \n",
       "12              No                     Body Mass Index of the patient  \n",
       "13              No                          Heart rate of the patient  \n",
       "14              No                       Glucose level of the patient  \n",
       "15             Yes  Indicates the 10-year risk of coronary heart d...  "
      ]
     },
     "execution_count": 16,
     "metadata": {},
     "output_type": "execute_result"
    }
   ],
   "source": [
    "# Load data\n",
    "df = pd.read_csv(file_path, header=0)\n",
    "\n",
    "# View Dataframe\n",
    "df"
   ]
  }
 ],
 "metadata": {
  "kernelspec": {
   "display_name": "base",
   "language": "python",
   "name": "python3"
  },
  "language_info": {
   "codemirror_mode": {
    "name": "ipython",
    "version": 3
   },
   "file_extension": ".py",
   "mimetype": "text/x-python",
   "name": "python",
   "nbconvert_exporter": "python",
   "pygments_lexer": "ipython3",
   "version": "3.12.7"
  }
 },
 "nbformat": 4,
 "nbformat_minor": 5
}
